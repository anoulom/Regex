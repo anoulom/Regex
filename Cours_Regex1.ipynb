{
 "cells": [
  {
   "cell_type": "markdown",
   "metadata": {},
   "source": [
    "![alt text](https://murviel-info.com/images/regex.png)"
   ]
  },
  {
   "cell_type": "markdown",
   "metadata": {},
   "source": [
    "![alt text](https://thinkr.fr/wp-content/uploads/regular_expressions.png)"
   ]
  },
  {
   "cell_type": "markdown",
   "metadata": {},
   "source": [
    "## Ressources intéressantes\n",
    "\n",
    "Doc python : https://docs.python.org/2/library/re.html <br>\n",
    "Pour voir en temps réel ce que sélectionne votre code regex : https://regex101.com/ <br>\n",
    "Petit site d'exos en français sympathique : http://apprendre-python.com/page-expressions-regulieres-regular-python\n",
    "Autres ressources :\n",
    "http://www.rexegg.com/regex-quickstart.html  \n",
    "http://www.dreambank.net/regex.html#examples  \n"
   ]
  },
  {
   "cell_type": "markdown",
   "metadata": {},
   "source": [
    "### Le backslash en python '\\\\'"
   ]
  },
  {
   "cell_type": "code",
   "execution_count": 2,
   "metadata": {},
   "outputs": [
    {
     "name": "stdout",
     "output_type": "stream",
     "text": [
      "Allez vient ! \n",
      "On est bien bien bien bien bien !\n"
     ]
    }
   ],
   "source": [
    "print(\"Allez vient ! \\nOn est bien bien bien bien bien !\")"
   ]
  },
  {
   "cell_type": "code",
   "execution_count": 3,
   "metadata": {},
   "outputs": [
    {
     "name": "stdout",
     "output_type": "stream",
     "text": [
      "Ceci est \n",
      "un retour à la ligne. \t Ceci est une tabulation\n"
     ]
    }
   ],
   "source": [
    "print(\"Ceci est \\nun retour à la ligne. \\t Ceci est une tabulation\")"
   ]
  },
  {
   "cell_type": "code",
   "execution_count": 5,
   "metadata": {},
   "outputs": [
    {
     "name": "stdout",
     "output_type": "stream",
     "text": [
      "Ceci n'est plus \\nun retour à la ligne. \\t Ni une tabulation\n"
     ]
    }
   ],
   "source": [
    "print(r\"Ceci n'est plus \\nun retour à la ligne. \\t Ni une tabulation\") # r signifie \"raw\"(brut)"
   ]
  },
  {
   "cell_type": "markdown",
   "metadata": {},
   "source": [
    "### Le \\\\ dans regex"
   ]
  },
  {
   "cell_type": "code",
   "execution_count": 1,
   "metadata": {},
   "outputs": [],
   "source": [
    "import re"
   ]
  },
  {
   "cell_type": "code",
   "execution_count": 5,
   "metadata": {},
   "outputs": [
    {
     "name": "stdout",
     "output_type": "stream",
     "text": [
      "All Hail Britannia ! \n",
      "All Hail Lelouch ! \n",
      "1,2,3... départ \n",
      "\n",
      "Voici la liste \n",
      "['.', '.', '.']\n"
     ]
    }
   ],
   "source": [
    "\"\"\"\n",
    ". => Match tous les caractères d'une ligne\n",
    "\"\"\"\n",
    "\n",
    "\n",
    "texte = \"All Hail Britannia ! \\nAll Hail Lelouch ! \\n1,2,3... départ \\n\"\n",
    "print(texte)\n",
    "\n",
    "#findall ressort une liste de tout ce qu'il a trouvé\n",
    "\n",
    "# matches = re.findall('All', texte)\n",
    "# matches = re.findall('.', texte)\n",
    "matches = re.findall('\\.', texte)\n",
    "\n",
    "print(f'Voici la liste \\n{matches}')\n",
    "\n"
   ]
  },
  {
   "cell_type": "code",
   "execution_count": 9,
   "metadata": {},
   "outputs": [
    {
     "name": "stdout",
     "output_type": "stream",
     "text": [
      "All Hail Britannia ! \n",
      "All Hail Lelouch ! \n",
      "1,2,3... départ \n",
      "\n",
      "Voici la liste \n",
      "['1', '2', '3']\n"
     ]
    }
   ],
   "source": [
    "\n",
    "print(texte)\n",
    "\n",
    "# matches = re.findall('d', texte)\n",
    "# print(f'Voici la liste \\n{matches}')\n",
    "\n",
    "matches = re.findall('\\d', texte) # \\d ==[0-9]     \\D == [^0-9] opposé à de \\d\n",
    "print(f'Voici la liste \\n{matches}')\n",
    "\n"
   ]
  },
  {
   "cell_type": "markdown",
   "metadata": {},
   "source": [
    "### La Casse"
   ]
  },
  {
   "cell_type": "code",
   "execution_count": 10,
   "metadata": {},
   "outputs": [
    {
     "name": "stdout",
     "output_type": "stream",
     "text": [
      "Voici la liste \n",
      "['l', 'l', 'a', 'i', 'l', 'r', 'i', 't', 'a', 'n', 'n', 'i', 'a', 'l', 'l', 'a', 'i', 'l', 'e', 'l', 'o', 'u', 'c', 'h', 'd', 'p', 'a', 'r', 't']\n",
      "Voici la liste \n",
      "['A', 'l', 'l', 'H', 'a', 'i', 'l', 'B', 'r', 'i', 't', 'a', 'n', 'n', 'i', 'a', 'A', 'l', 'l', 'H', 'a', 'i', 'l', 'L', 'e', 'l', 'o', 'u', 'c', 'h', 'd', 'p', 'a', 'r', 't']\n"
     ]
    }
   ],
   "source": [
    "matches = re.findall('[a-z]', texte)\n",
    "print(f'Voici la liste \\n{matches}')# la ligne suivante n'est pas imprimée\n",
    "\n",
    "matches = re.findall('[A-z]', texte)\n",
    "print(f'Voici la liste \\n{matches}')# la ligne suivante n'est pas imprimée\n",
    "\n"
   ]
  },
  {
   "cell_type": "markdown",
   "metadata": {},
   "source": [
    "### Regex ^ +"
   ]
  },
  {
   "cell_type": "code",
   "execution_count": 13,
   "metadata": {
    "scrolled": true
   },
   "outputs": [
    {
     "name": "stdout",
     "output_type": "stream",
     "text": [
      "All Hail Britannia ! \n",
      "All Hail Lelouch ! \n",
      "1,2,3... départ \n",
      "\n",
      "Voici la liste \n",
      "['All', 'Hail', 'Britannia', 'All', 'Hail', 'Lelouch', '1', '2', '3', 'départ']\n"
     ]
    }
   ],
   "source": [
    "\"\"\"\n",
    "\n",
    ". => Match tous les caractères d'une ligne\n",
    "^ => Match le début d'une string ou match l'inverse d'une formule\n",
    "\n",
    "Quantificateur (se place à la fin du match)\n",
    "\n",
    "+ => Match 1 ou + elements qui suivent\n",
    "\"\"\"\n",
    "print(texte)\n",
    "\n",
    "#findall ressort une liste de tout ce qu'il a trouvé\n",
    "matches = re.findall('\\w+', texte)\n",
    "print(f'Voici la liste \\n{matches}')\n",
    "\n",
    "\n"
   ]
  },
  {
   "cell_type": "markdown",
   "metadata": {},
   "source": [
    "### Sélection"
   ]
  },
  {
   "cell_type": "code",
   "execution_count": 14,
   "metadata": {},
   "outputs": [
    {
     "data": {
      "text/plain": [
       "['500', '600']"
      ]
     },
     "execution_count": 14,
     "metadata": {},
     "output_type": "execute_result"
    }
   ],
   "source": [
    "texte = \"Argent sur le compte : 500 €  600 €\"\n",
    "\n",
    "matches = re.findall('\\d+',texte)\n",
    "matches"
   ]
  },
  {
   "cell_type": "code",
   "execution_count": 53,
   "metadata": {},
   "outputs": [
    {
     "name": "stdout",
     "output_type": "stream",
     "text": [
      "Voici la liste \n",
      "['500 €', '100,0 $']\n"
     ]
    }
   ],
   "source": [
    "#Objectif => récupérer uniquement l'argent en euros en dollars\n",
    "\n",
    "texte = \"Argent sur le compte : 500 € mais pas trop  \\\n",
    "Argent sur le compte : 100,0 $ Argent sur le compte : 300,0 £ 150 $ \\\n",
    "Argent sur le compte : 54f55fd4f5df \"\n",
    "\n",
    "# => https://regex101.com/r/cJ1wX7/79\n",
    "matches = re.findall(r'le compte : (\\d+,?\\d* [€|$])', texte)\n",
    "print(f'Voici la liste \\n{matches}')"
   ]
  },
  {
   "cell_type": "markdown",
   "metadata": {},
   "source": [
    "**Q : Les pièges de la méthode strip() ? Vs avez déjà utilisé la méthode strip(), celle-ci supp la chaîne de caractères non désirée aux extrémités (lstrip() et rstrip() resp. : left et right).**"
   ]
  },
  {
   "cell_type": "code",
   "execution_count": 13,
   "metadata": {},
   "outputs": [
    {
     "data": {
      "text/plain": [
       "' \\t\\n\\r\\x0b\\x0c'"
      ]
     },
     "execution_count": 13,
     "metadata": {},
     "output_type": "execute_result"
    }
   ],
   "source": [
    "#Voici tout ce qui est considéré comme un whitespace par strip\n",
    "import string\n",
    "string.whitespace"
   ]
  },
  {
   "cell_type": "code",
   "execution_count": 39,
   "metadata": {},
   "outputs": [
    {
     "name": "stdout",
     "output_type": "stream",
     "text": [
      "***\n",
      "test\n"
     ]
    }
   ],
   "source": [
    "#Qu'est-ce qu'un whitespace ? On pense que c'est juste l'espace mais ds Python c plus que ça ! La preuve : \n",
    "# print(\"***\")\n",
    "# print('\\t\\n test ')\n",
    "print(\"***\")\n",
    "print('\\t\\n test '.strip())\n"
   ]
  },
  {
   "cell_type": "code",
   "execution_count": 43,
   "metadata": {},
   "outputs": [
    {
     "data": {
      "text/plain": [
       "'test'"
      ]
     },
     "execution_count": 43,
     "metadata": {},
     "output_type": "execute_result"
    }
   ],
   "source": [
    "'\\t\\n test '.strip()"
   ]
  },
  {
   "cell_type": "code",
   "execution_count": 44,
   "metadata": {
    "scrolled": true
   },
   "outputs": [
    {
     "name": "stdout",
     "output_type": "stream",
     "text": [
      "test_strip]\n",
      "[test_strip\n",
      "test_strip\n"
     ]
    }
   ],
   "source": [
    "print('[test_strip]'.strip('['))  \n",
    "print('[test_strip]'.strip(']'))  \n",
    "print('[test_strip]'.strip('[]')) \n"
   ]
  },
  {
   "cell_type": "code",
   "execution_count": 45,
   "metadata": {},
   "outputs": [
    {
     "data": {
      "text/plain": [
       "'test'"
      ]
     },
     "execution_count": 45,
     "metadata": {},
     "output_type": "execute_result"
    }
   ],
   "source": [
    "# \"* **  * test_strip \".strip('* ') \n",
    "# '**  * test ' # comportement attendu mais faux\n",
    "\"* **  * test \".strip('* ')\n",
    "#'test'  # comportement réel\n",
    "#source : http://sametmax.com/le-piege-de-la-methode-strip-des-chaines-en-python/"
   ]
  },
  {
   "cell_type": "markdown",
   "metadata": {},
   "source": [
    "***\n",
    "## Le module regex"
   ]
  },
  {
   "cell_type": "code",
   "execution_count": 18,
   "metadata": {},
   "outputs": [],
   "source": [
    "import re"
   ]
  },
  {
   "cell_type": "markdown",
   "metadata": {},
   "source": [
    "- Il existe deux manières d’utiliser les regex :\n",
    "    - La première consiste à appeler la fonction avec en 1er paramètre le motif, et en 2è paramètre la chaine à analyser.\n",
    "    - La seconde manière consiste à compiler la regex, et à ensuite utiliser les méthodes de l’objet crée pour analyser une chaine passée en argument. Cette méthode permet d’accélérer le traitement lorsqu’une regex est utilisée plusieurs fois.  "
   ]
  },
  {
   "cell_type": "code",
   "execution_count": 47,
   "metadata": {},
   "outputs": [
    {
     "name": "stdout",
     "output_type": "stream",
     "text": [
      "Si le regex va être utilisé plusieurs fois\n",
      "['1']\n",
      "['2']\n",
      "['3']\n"
     ]
    }
   ],
   "source": [
    "texte = \" Je cherche uniquement des chiffres comme le 1\"\n",
    "texte2 = \" Je cherche uniquement des chiffres comme le 2\"\n",
    "texte3 = \" Je cherche uniquement des chiffres comme le 3\"\n",
    "\n",
    "liste_texte = [texte, texte2, texte3]\n",
    "\n",
    "pattern = '\\d+'\n",
    "\n",
    "# print(\"Si le regex va être utilisé qu'une fois\")\n",
    "# first = re.findall(pattern, texte)\n",
    "# first = re.findall(pattern, texte2)\n",
    "# first = re.findall(pattern, texte3)\n",
    "# print(first)\n",
    "\n",
    "print(\"Si le regex va être utilisé plusieurs fois\")\n",
    "\n",
    "prog = re.compile(pattern)\n",
    "for text in liste_texte:\n",
    "    print(prog.findall(text))\n",
    "    "
   ]
  },
  {
   "cell_type": "markdown",
   "metadata": {},
   "source": [
    "## Greedy vs Lazy"
   ]
  },
  {
   "cell_type": "code",
   "execution_count": 48,
   "metadata": {},
   "outputs": [
    {
     "data": {
      "text/plain": [
       "[\"0 puis un autre 1, ce texte n'apparait plus après 0 et le dernier 1\"]"
      ]
     },
     "execution_count": 48,
     "metadata": {},
     "output_type": "execute_result"
    }
   ],
   "source": [
    "text = \"Voici un 0 puis un autre 1, ce texte n'apparait plus après 0 et le dernier 1\"\n",
    "\n",
    "re.findall('0.*1', text) #greedy => Regex dit : \"prends entre tout les caractères (.) entre '0' et '1' \""
   ]
  },
  {
   "cell_type": "code",
   "execution_count": 49,
   "metadata": {},
   "outputs": [
    {
     "data": {
      "text/plain": [
       "['0 puis un autre 1', '0 et le dernier 1']"
      ]
     },
     "execution_count": 49,
     "metadata": {},
     "output_type": "execute_result"
    }
   ],
   "source": [
    "text = \"Voici un 0 puis un autre 1, encore un 0 et le dernier 1\"\n",
    "\n",
    "re.findall('0.*?1', text) #lazy => remarquez l'ajout du '?'"
   ]
  },
  {
   "cell_type": "markdown",
   "metadata": {},
   "source": [
    "***\n",
    "**Les caractères spéciaux (en vrac, liste non exhaustive)**   "
   ]
  },
  {
   "cell_type": "markdown",
   "metadata": {},
   "source": [
    "Caractère | Signification   \n",
    ":-------------------------:|:-------------------------:\n",
    "**.**|**Désigne n’importe quel caractère.**\n",
    "**^**|**Indique que le début de la chaine doit correspondre (c’est à dire qu’une chaine ne pourra correspondre que si elle commence de la même manière, qu’elle est précédée d’espaces ou d’un saut de ligne).**\n",
    "**$**|**Indique que la fin de la chaine doit correspondre (la même remarque que précédemment s’applique, mais au niveau de la fin).**\n",
    "**{n}**|**Indique que le caractère précédent doit être répété n fois.**\n",
    "**{n,m}**|**Indique que le caractère précédent doit être répété entre n et m fois.**\n",
    "** * **|**Le caractère précédent peut être répété aucune ou plusieurs fois. Par exemple, à ab* peuvent correspondre : a, ab, ou a suivi d’un nombre quelconque de b.**\n",
    "**+**|**Le caractère précédent peut être répété une ou plusieurs fois. Par exemple, à ab+ correspond un a suivi d’un nombre quelconque de b.**\n",
    "**?**|**Le caractère précédent peut être répété zéro ou une fois. Par exemple, à ab? correspondent ab et a.**"
   ]
  },
  {
   "cell_type": "markdown",
   "metadata": {},
   "source": [
    "# Exercices de Sayf édités"
   ]
  },
  {
   "cell_type": "markdown",
   "metadata": {},
   "source": [
    "**Utilisez https://regex101.com/ pour faire vos tests et ensuite lancez le sur le notebook**\n",
    "- **Q : Fournir la Regex pour ?**  \n",
    "   - Un entier positif :   \n",
    "       - sans limite sur sa taille.  ---> \\d\n",
    "       - de taille 10 au max. ----------> (\\d)+\n",
    "       - de taille 5 fixe.  ------------> (\\d)+\n",
    "-   Faire la même chose pour  :\n",
    "   - un entier négatif\n",
    "   - négatif ou positif\n",
    "   - positif ou négatif avec ou sans chiffre après la virgule\n",
    "   - positif ou négatif avec deux chiffres après la virgule\n",
    "   - un pourcentage (ex : 100%, 99.99%)\n"
   ]
  },
  {
   "cell_type": "markdown",
   "metadata": {},
   "source": [
    "Un entier positif : \n",
    "sans limite sur sa taille. ---> \\d\n",
    "de taille 10 au max. ----------> (\\d)+\n",
    "de taille 5 fixe. ------------> (\\d)+\n",
    "Faire la même chose pour :\n",
    "un entier négatif\n",
    "négatif ou positif\n",
    "positif ou négatif avec ou sans chiffre après la virgule\n",
    "positif ou négatif avec deux chiffres après la virgule\n",
    "un pourcentage (ex : 100%, 99.99%)"
   ]
  },
  {
   "cell_type": "markdown",
   "metadata": {},
   "source": [
    " sans limite sur sa taille. ---> \\d"
   ]
  },
  {
   "cell_type": "code",
   "execution_count": 2,
   "metadata": {},
   "outputs": [],
   "source": [
    "import re"
   ]
  },
  {
   "cell_type": "code",
   "execution_count": 13,
   "metadata": {},
   "outputs": [
    {
     "name": "stdout",
     "output_type": "stream",
     "text": [
      "sans limite sur sa taille. ---> \\d\n",
      "entier positif: []\n",
      "un entier négatif ['-1000000080']\n",
      "négatif ou positif ['-1000000080']\n",
      "positif ou négatif avec ou sans chiffre après la virgule ['-1000000080']\n",
      "positif ou négatif avec deux chiffres après la virgule []\n",
      "un pourcentage (ex : 100%, 99.99%) ['100,99%']\n",
      "un pourcentage (ex : 100%, 99.99%) ['100,99 %']\n"
     ]
    }
   ],
   "source": [
    "print('sans limite sur sa taille. ---> \\d')\n",
    "# Un entier positif :\n",
    "# Attention ^() peut aussi signifier le contraire de ce qui est dans ()\n",
    "texte='-1000000080'\n",
    "matche1=re.findall('^\\d+',texte)\n",
    "print(\"entier positif:\",matche1)\n",
    "\n",
    "# un entier négatif\n",
    "texte='-1000000080'\n",
    "matche2=re.findall('^-\\d+',texte)\n",
    "print(\"un entier négatif\",matche2)\n",
    "\n",
    "# négatif ou positif\n",
    "texte='-1000000080'\n",
    "matche3=re.findall('^-?\\d+',texte)\n",
    "print(\"négatif ou positif\",matche3)\n",
    "\n",
    "# positif ou négatif avec ou sans chiffre après la virgule\n",
    "# (?: ) pour ne pas récupérer mais appliquer le \"?\" ()\n",
    "# site regex101.com en bleu : match, en vert : récupère \n",
    "texte='-1000000080'\n",
    "matche4=re.findall('^-?\\d+(?:,\\d+)?',texte)\n",
    "# matche4=re.findall('^-?\\d+,?\\d+',texte)\n",
    "print(\"positif ou négatif avec ou sans chiffre après la virgule\",matche4)\n",
    "\n",
    "# positif ou négatif avec deux chiffres après la virgule\n",
    "texte='-1000000080,888'\n",
    "matche5=re.findall('^-?\\d+,\\d{2}$',texte)\n",
    "print(\"positif ou négatif avec deux chiffres après la virgule\", matche5)\n",
    "\n",
    "# un pourcentage (ex : 100%, 99.99%)\n",
    "texte='100,99%'\n",
    "matche6=re.findall('^-?\\d+(?:,\\d{2})?%',texte)\n",
    "print(\"un pourcentage (ex : 100%, 99.99%)\",matche6)\n",
    "\n",
    "# un pourcentage avec un espace (ex : 100 %, 99.99 %)\n",
    "texte='100,99 %'\n",
    "matche6=re.findall('^-?\\d+(?:,\\d{2})? ?%',texte)\n",
    "print(\"un pourcentage (ex : 100%, 99.99%)\",matche6)"
   ]
  },
  {
   "cell_type": "markdown",
   "metadata": {},
   "source": [
    "Un entier positif : \n",
    "de taille 10 au max. ----------> (\\d)+"
   ]
  },
  {
   "cell_type": "code",
   "execution_count": 9,
   "metadata": {},
   "outputs": [
    {
     "name": "stdout",
     "output_type": "stream",
     "text": [
      "entier positif: []\n",
      "un entier négatif ['-1000000080']\n",
      "négatif ou positif ['-1000000080']\n",
      "positif ou négatif avec ou sans chiffre après la virgule ['-1000000080']\n",
      "positif ou négatif avec deux chiffres après la virgule ['-1000000080,88']\n",
      "un pourcentage (ex : 100%, 99.99%) []\n"
     ]
    }
   ],
   "source": [
    "print('taille 10 au max. ----------> (\\d)+')\n",
    "# Un entier positif :'\n",
    "texte='-1000000080'\n",
    "matche1=re.findall('^\\d{1,10}$',texte)\n",
    "print(\"entier positif:\",matche1)\n",
    "\n",
    "# un entier négatif\n",
    "texte='-1000000080'\n",
    "matche2=re.findall('^-\\d{1,10}$',texte)\n",
    "print(\"un entier négatif\",matche2)\n",
    "\n",
    "# négatif ou positif\n",
    "texte='-1000000080'\n",
    "matche3=re.findall('^-?\\d{1,10}$',texte)\n",
    "print(\"négatif ou positif\",matche3)\n",
    "\n",
    "# positif ou négatif avec ou sans chiffre après la virgule\n",
    "texte='-1000000080'\n",
    "matche4=re.findall('^-?\\d{1,10}(?:,\\d+)?',texte)\n",
    "# matche4=re.findall('^-?\\d+,?\\d+',texte)\n",
    "print(\"positif ou négatif avec ou sans chiffre après la virgule\",matche4)\n",
    "\n",
    "# positif ou négatif avec deux chiffres après la virgule\n",
    "texte='-1000000080,888'\n",
    "matche5=re.findall('^-?\\d{1,10},\\d{2}$',texte)\n",
    "print(\"positif ou négatif avec deux chiffres après la virgule\", matche5)\n",
    "\n",
    "# un pourcentage (ex : 100%, 99.99%)\n",
    "texte='100,99%'\n",
    "matche6=re.findall('^-?\\d{1,10}(?:,\\d{2})?%',texte)\n",
    "print(\"un pourcentage (ex : 100%, 99.99%)\",matche6)"
   ]
  },
  {
   "cell_type": "code",
   "execution_count": 3,
   "metadata": {},
   "outputs": [
    {
     "name": "stdout",
     "output_type": "stream",
     "text": [
      "de taille 5 fixe. ----------> (\\d)+\n",
      "entier positif: []\n",
      "un entier négatif []\n",
      "négatif ou positif []\n",
      "positif ou négatif avec ou sans chiffre après la virgule ['-10000']\n",
      "positif ou négatif avec deux chiffres après la virgule []\n",
      "un pourcentage (ex : 100%, 99.99%) []\n"
     ]
    }
   ],
   "source": [
    "print('de taille 5 fixe. ----------> (\\d)+')\n",
    "# Un entier positif :'\n",
    "texte='-1000000080'\n",
    "matche1=re.findall('^\\d{5}$',texte)\n",
    "print(\"entier positif:\",matche1)\n",
    "\n",
    "# un entier négatif\n",
    "texte='-1000000080'\n",
    "matche2=re.findall('^-\\d{5}$',texte)\n",
    "print(\"un entier négatif\",matche2)\n",
    "\n",
    "# négatif ou positif\n",
    "texte='-1000000080'\n",
    "matche3=re.findall('^-?\\d{5}$',texte)\n",
    "print(\"négatif ou positif\",matche3)\n",
    "\n",
    "# positif ou négatif avec ou sans chiffre après la virgule\n",
    "texte='-1000000080'\n",
    "matche4=re.findall('^-?\\d{5}(?:,\\d+)?',texte)\n",
    "# matche4=re.findall('^-?\\d+,?\\d+',texte)\n",
    "print(\"positif ou négatif avec ou sans chiffre après la virgule\",matche4)\n",
    "\n",
    "# positif ou négatif avec deux chiffres après la virgule\n",
    "texte='-1000000080,888'\n",
    "matche5=re.findall('^-?\\d{5},\\d{2}$',texte)\n",
    "print(\"positif ou négatif avec deux chiffres après la virgule\", matche5)\n",
    "\n",
    "# un pourcentage (ex : 100%, 99.99%)\n",
    "texte='100,99%'\n",
    "matche6=re.findall('^-?\\d{5}(?:,\\d{2})?%',texte)\n",
    "print(\"un pourcentage (ex : 100%, 99.99%)\",matche6)"
   ]
  },
  {
   "cell_type": "code",
   "execution_count": null,
   "metadata": {},
   "outputs": [],
   "source": []
  },
  {
   "cell_type": "markdown",
   "metadata": {},
   "source": [
    "***\n",
    "**Q : Trouver tous les adverbes en -ment ?**   "
   ]
  },
  {
   "cell_type": "code",
   "execution_count": 9,
   "metadata": {},
   "outputs": [],
   "source": [
    "import re"
   ]
  },
  {
   "cell_type": "code",
   "execution_count": 12,
   "metadata": {},
   "outputs": [],
   "source": [
    "text = \"Il s'était prudemment déguisé mais fut rapidement capturé par la police malheuresement.\\\n",
    "Il ment comme un arracheur de dents\""
   ]
  },
  {
   "cell_type": "code",
   "execution_count": 15,
   "metadata": {},
   "outputs": [
    {
     "data": {
      "text/plain": [
       "['prudemment', 'rapidement', 'malheuresement']"
      ]
     },
     "execution_count": 15,
     "metadata": {},
     "output_type": "execute_result"
    }
   ],
   "source": [
    "matche=re.findall(\"[a-z]+ment\", text)\n",
    "matche"
   ]
  },
  {
   "cell_type": "markdown",
   "metadata": {},
   "source": [
    "##### ***\n",
    "**Q : Une plaque d’immatriculation est composée de 2 lettres majuscules, un tiret ('-'), 3 chiffres, un tiret ('-') et enfin de 2 lettres majuscules. Ecrire 1script pr vérifier qu'une chaîne saisie est bien celle d’une plaque d’immatriculation (méthode input() : c'est à vs de saisir et de tester) ?**   "
   ]
  },
  {
   "cell_type": "code",
   "execution_count": 19,
   "metadata": {},
   "outputs": [
    {
     "name": "stdout",
     "output_type": "stream",
     "text": [
      "AZ-667-ER\n",
      "ceci est une plaque d'immat\n",
      "['AZ-667-ER']\n"
     ]
    }
   ],
   "source": [
    "plaque=input()\n",
    "prog=re.findall(\"^[A-Z]{2}-\\d{3}-[A-Z]{2}$\",plaque)\n",
    "\n",
    "if prog[0] == plaque:\n",
    "    print (\"ceci est une plaque d'immat\")\n",
    "else:\n",
    "    print (\"ceci n'est pas une plaque d'immat\")\n",
    "\n",
    "print (prog)"
   ]
  },
  {
   "cell_type": "markdown",
   "metadata": {},
   "source": [
    "***\n",
    "**Q : Une adresse IPv4 est composée de 4 nombres entre 0 et 255 séparés par des '.' ? Ecrire 1script pr vérifier qu'une chaîne saisie est bien celle d’une adresse IPv4 (méthode input() : c'est à vs de saisir et de tester) ?**   "
   ]
  },
  {
   "cell_type": "code",
   "execution_count": 23,
   "metadata": {},
   "outputs": [
    {
     "ename": "TypeError",
     "evalue": "expected string or bytes-like object",
     "output_type": "error",
     "traceback": [
      "\u001b[0;31m---------------------------------------------------------------------------\u001b[0m",
      "\u001b[0;31mTypeError\u001b[0m                                 Traceback (most recent call last)",
      "\u001b[0;32m<ipython-input-23-325516cd9007>\u001b[0m in \u001b[0;36m<module>\u001b[0;34m\u001b[0m\n\u001b[1;32m      1\u001b[0m \u001b[0mipv\u001b[0m\u001b[0;34m=\u001b[0m\u001b[0minput\u001b[0m\u001b[0;34m\u001b[0m\u001b[0;34m\u001b[0m\u001b[0m\n\u001b[0;32m----> 2\u001b[0;31m \u001b[0mprog2\u001b[0m\u001b[0;34m=\u001b[0m\u001b[0mre\u001b[0m\u001b[0;34m.\u001b[0m\u001b[0mfindall\u001b[0m\u001b[0;34m(\u001b[0m\u001b[0;34m\"^(?:[0-255]\\.){3}[0-255]$\"\u001b[0m\u001b[0;34m,\u001b[0m\u001b[0mipv\u001b[0m\u001b[0;34m)\u001b[0m\u001b[0;34m\u001b[0m\u001b[0;34m\u001b[0m\u001b[0m\n\u001b[0m\u001b[1;32m      3\u001b[0m \u001b[0;34m\u001b[0m\u001b[0m\n",
      "\u001b[0;32m~/anaconda3/lib/python3.7/re.py\u001b[0m in \u001b[0;36mfindall\u001b[0;34m(pattern, string, flags)\u001b[0m\n\u001b[1;32m    221\u001b[0m \u001b[0;34m\u001b[0m\u001b[0m\n\u001b[1;32m    222\u001b[0m     Empty matches are included in the result.\"\"\"\n\u001b[0;32m--> 223\u001b[0;31m     \u001b[0;32mreturn\u001b[0m \u001b[0m_compile\u001b[0m\u001b[0;34m(\u001b[0m\u001b[0mpattern\u001b[0m\u001b[0;34m,\u001b[0m \u001b[0mflags\u001b[0m\u001b[0;34m)\u001b[0m\u001b[0;34m.\u001b[0m\u001b[0mfindall\u001b[0m\u001b[0;34m(\u001b[0m\u001b[0mstring\u001b[0m\u001b[0;34m)\u001b[0m\u001b[0;34m\u001b[0m\u001b[0;34m\u001b[0m\u001b[0m\n\u001b[0m\u001b[1;32m    224\u001b[0m \u001b[0;34m\u001b[0m\u001b[0m\n\u001b[1;32m    225\u001b[0m \u001b[0;32mdef\u001b[0m \u001b[0mfinditer\u001b[0m\u001b[0;34m(\u001b[0m\u001b[0mpattern\u001b[0m\u001b[0;34m,\u001b[0m \u001b[0mstring\u001b[0m\u001b[0;34m,\u001b[0m \u001b[0mflags\u001b[0m\u001b[0;34m=\u001b[0m\u001b[0;36m0\u001b[0m\u001b[0;34m)\u001b[0m\u001b[0;34m:\u001b[0m\u001b[0;34m\u001b[0m\u001b[0;34m\u001b[0m\u001b[0m\n",
      "\u001b[0;31mTypeError\u001b[0m: expected string or bytes-like object"
     ]
    }
   ],
   "source": [
    "ipv=input\n",
    "prog2=re.findall(\"^(?:[0-255]\\.){3}[0-255]$\",ipv)\n",
    "    "
   ]
  },
  {
   "cell_type": "code",
   "execution_count": 20,
   "metadata": {},
   "outputs": [
    {
     "data": {
      "text/plain": [
       "[]"
      ]
     },
     "execution_count": 20,
     "metadata": {},
     "output_type": "execute_result"
    }
   ],
   "source": [
    "textes = \"j'ai 14 ans $ ans $ 98\"\n",
    "re.findall(\"(/d+|/$)ans\",textes)"
   ]
  },
  {
   "cell_type": "markdown",
   "metadata": {},
   "source": [
    "***\n",
    "## Chaîne de valeur de création d'un compte sur un site\n",
    "\n",
    "\n",
    "**Un email est composé de caractères alphanumériques suivis de @ et d’un nom de domaine.** <br><br>\n",
    "Tester les différentes conditions de validité de mail ici => https://mail.protonmail.com/create/new?language=fr\n",
    "- Q : Ecrire 1script qui vérifie que la chaîne saisie par un User est bien celle d’un email, sinon lui demander de resaisir à nouveau (jusqu'à obtenir un email valide) ?    \n",
    "- Q : Augmenter le script pour taper le mot de passe (mdp, évidemment si l'email est valide où la seule spécifité du mdp est de contenir au moins 4caractères) ?\n",
    "\n",
    "** Suite à un Pb de hacking des mdp, la direction SI a mis en place 1politique de sécurité (renforcement des mdp).  **  \n",
    "- Q : Le mot de passe doit maintenant contenir au moins 6 caractères : au moins une lettre en miniscule ET au moins une lettre en majuscule Et au moins un chiffre Et au moins un charactére spécial (parmi $#@).\n",
    "\n",
    "![alt text](https://d2d3qesrx8xj6s.cloudfront.net/img/screenshots/f84ff6136551983c1eaa01c1d80d2e8439b3087c.jpg)\n",
    "\n",
    "\n",
    "- Q : Augmenter le script pour qu'il puisse donner automtiquement l'identifiant. Par ex : durant@nomdomaine.com => identifiant = durant. Le contexte : envoi de mails de confirmation qui comporteraient les identifiants (pr valider l'inscription, ex Bonjour M. Durant, Félicitation ! Votre inscri est confirmé.) ? **   \n",
    "- Q Optionnel : Extraire le nom de domaine de l'email (yahoo.fr ; outlook.com,...) "
   ]
  },
  {
   "cell_type": "markdown",
   "metadata": {},
   "source": [
    "- Réecrire le script où vs tenez du nouveau format de mdp et où vs indiquez au User le niveau de sécurité corresp à son mdp : \n",
    "\n",
    "    - Niveau faible : exactement 6 caractères. \n",
    "    - Niveau faible : Que des lettres (miniscules ou majuscules) peu importe leur nombre\n",
    "    - Niveau elevé : plus de 6 caractères et mélange de\n",
    "    - Interdit : Une suite consécutive de chiffre : ex, 123456."
   ]
  },
  {
   "cell_type": "code",
   "execution_count": null,
   "metadata": {},
   "outputs": [],
   "source": []
  }
 ],
 "metadata": {
  "kernelspec": {
   "display_name": "Python 3",
   "language": "python",
   "name": "python3"
  },
  "language_info": {
   "codemirror_mode": {
    "name": "ipython",
    "version": 3
   },
   "file_extension": ".py",
   "mimetype": "text/x-python",
   "name": "python",
   "nbconvert_exporter": "python",
   "pygments_lexer": "ipython3",
   "version": "3.7.3"
  }
 },
 "nbformat": 4,
 "nbformat_minor": 2
}
